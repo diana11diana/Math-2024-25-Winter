{
  "cells": [
    {
      "cell_type": "markdown",
      "metadata": {
        "id": "btmn-Fjmksti"
      },
      "source": [
        "## Definicja funkcji\n",
        "\n",
        "**Teoriomnogościowa definicja funkcji** mówi, że funkcja $f$ jest specjalnym przypadkiem relacji. Relacja to po prostu dowolny zbiór par uporządkowanych. Funkcja natomiast jest taką relacją $f \\subseteq X \\times Y$, która spełnia dodatkowe założenie: każdemu elementowi $x \\in X$ przyporządkowany jest **dokładnie jeden** element $y \\in Y$.\n",
        "\n",
        "Formalnie, funkcja $f$ to relacja, która spełnia następujący warunek:\n",
        "\n",
        "$$\n",
        "\\forall x_1, x_2 \\in X, \\, \\forall y_1, y_2 \\in Y \\, \\left( (x_1, y_1) \\in f \\land (x_2, y_2) \\in f : (x_1 = x_2) \\Rightarrow (y_1 = y_2) \\right)\n",
        "$$\n",
        "\n",
        "Oznacza to, że jeśli dla tego samego $x_1$ mamy dwie pary $(x_1, y_1)$ i $(x_1, y_2)$, to $y_1$ musi być równe $y_2$. Innymi słowy, żaden element z $X$ nie może być powiązany z więcej niż jednym elementem z $Y$.\n",
        "\n",
        "### Ważne punkty:\n",
        "1. **Relacja** w teorii mnogości to po prostu zbiór par uporządkowanych $(x, y)$, gdzie $x$ pochodzi ze zbioru $X$, a $y$ ze zbioru $Y$.\n",
        "2. **Funkcja** to relacja, która dodatkowo spełnia warunek, że dla każdego $x$ istnieje dokładnie jedna para $(x, y)$ w tej relacji.\n",
        "\n",
        "Zatem funkcja $f \\subseteq X \\times Y$ jest relacją, która spełnia dodatkowy warunek, że dla każdego $x \\in X$ istnieje dokładnie jedno $y \\in Y$ takie, że $(x, y) \\in f$."
      ]
    },
    {
      "cell_type": "markdown",
      "metadata": {
        "id": "78WCTyabkstk"
      },
      "source": [
        "### Przykłady\n",
        "\n",
        "**Przykład 1**\n",
        "\n",
        "$$\n",
        "f=\\{(\\text{pies}, \\text{dog}), (\\text{kot}, \\text{cat}), (\\text{koń}, \\text{horse})\\}\n",
        "$$\n",
        "\n",
        "**Przykład 2**\n",
        "\n",
        "$$\n",
        "f=\\{(1,2), (2,3), (3,4)\\}\n",
        "$$\n",
        "\n",
        "Co oznacza, że $f(1)=2$, $f(2)=3$ i $f(3)=4$.\n",
        "\n",
        "**Przykład 3**\n",
        "\n",
        "$$\n",
        "f=\\{(1,1),(2,1/2),(3,1/3),...\\}=\\{(n,1/n): n \\in \\mathbb{N}\\}\n",
        "$$\n",
        "\n",
        "gdzie $\\mathbb{N}$ oznacza zbiór liczb naturalnych. Funkcja ta przyporządkowuje każdemu $n$ liczbę $1/n$.\n",
        "\n",
        "Często skracamy zapis ciągów takich jak ten do postaci $f(n)=1/n$.\n",
        "\n",
        "**Przykład 4**\n",
        "\n",
        "Funkcja kwadratowa często zapisywana jako $f(x)=x^2$ to funkcja, która każdemu $x$ przyporządkowuje $x^2$. W naszej notacji zapisujemy to jako\n",
        "\n",
        "$$\n",
        "f=\\{(x,x^2): x \\in \\mathbb{R}\\}\n",
        "$$\n",
        "\n",
        "**Przykład 5**\n",
        "\n",
        "Wyznacznik macierzy to funkcja, która każdej macierzy przyporządkowuje liczbę. W naszej notacji zapisujemy to jako\n",
        "\n",
        "$$\n",
        "f=\\{(M,det(M)): M \\text{ jest macierzą kwadratową}\\}\n",
        "$$\n",
        "\n",
        "**Przykład 6**\n",
        "\n",
        "Sama macierz jest też funkcją, która każdej parze indeksów $(i,j)$ gdzie $i,j \\in \\{1,2,...,n\\}$ przyporządkowuje element macierzy na pozycji $(i,j)$. W naszej notacji zapisujemy to jako\n",
        "\n",
        "$$\n",
        "M=\\{((i,j),M_{ij}): i,j \\in \\{1,2,...,n\\}\\}\n",
        "$$\n",
        "\n",
        "dla wygody zapisujemy to jako tablicę dwuwymiarową:\n",
        "\n",
        "$$\n",
        "M=\\begin{bmatrix}\n",
        "M_{11} & M_{12} & \\cdots & M_{1n} \\\\\n",
        "M_{21} & M_{22} & \\cdots & M_{2n} \\\\\n",
        "\\vdots & \\vdots & \\ddots & \\vdots \\\\\n",
        "M_{n1} & M_{n2} & \\cdots & M_{nn}\n",
        "\\end{bmatrix}\n",
        "$$\n",
        "\n",
        "**Przykład 7**\n",
        "\n",
        "Dodawanie macierzy to funkcja, która każdej parze macierzy przyporządkowuje macierz. W naszej notacji zapisujemy to jako\n",
        "\n",
        "$$\n",
        "f=\\{((A,B),A+B): A,B \\text{ są macierzami o takich samych wymiarach}\\}\n",
        "$$\n",
        "\n",
        "gdzie $A+B$ to macierz, której elementy są sumą elementów macierzy $A$ i $B$, czyli dla każdego $i,j$ mamy\n",
        "$$\n",
        "(A+B)_{ij}=A_{ij}+B_{ij}\n",
        "$$\n",
        "\n",
        "\n",
        "\n"
      ]
    },
    {
      "cell_type": "markdown",
      "metadata": {
        "id": "jlF6CJCCkstl"
      },
      "source": [
        "**Przykład 8**\n",
        "\n",
        "Słownik w pythonie to też funkcja, która każdemu kluczowi przyporządkowuje wartość. W naszej notacji zapisujemy to jako:"
      ]
    },
    {
      "cell_type": "code",
      "execution_count": 1,
      "metadata": {
        "id": "41IifWG5kstl",
        "outputId": "31eb4fd6-6d94-4989-f708-ff86ddcae66d",
        "colab": {
          "base_uri": "https://localhost:8080/"
        }
      },
      "outputs": [
        {
          "output_type": "execute_result",
          "data": {
            "text/plain": [
              "{1: 1, 2: 4, 3: 9, 4: 16, 5: 25}"
            ]
          },
          "metadata": {},
          "execution_count": 1
        }
      ],
      "source": [
        "f={1:1,2:4,3:9,4:16,5:25}\n",
        "f"
      ]
    },
    {
      "cell_type": "code",
      "execution_count": 2,
      "metadata": {
        "id": "TR9oROLskstn",
        "outputId": "c40a97ba-811d-45cf-bd1b-c806298aa822",
        "colab": {
          "base_uri": "https://localhost:8080/"
        }
      },
      "outputs": [
        {
          "output_type": "stream",
          "name": "stdout",
          "text": [
            "Wartość dla klucza 1: f[1] = 1\n",
            "Wartość dla klucza 2: f[2] = 4\n",
            "Wartość dla klucza 3: f[3] = 9\n"
          ]
        }
      ],
      "source": [
        "# Odpytujemy słownik o wartości dla kluczy 1, 2, 3 podobnie jak zapisujemy to w matematyce!!!\n",
        "print(f\"Wartość dla klucza 1: f[1] = {f[1]}\")\n",
        "print(f\"Wartość dla klucza 2: f[2] = {f[2]}\")\n",
        "print(f\"Wartość dla klucza 3: f[3] = {f[3]}\")"
      ]
    },
    {
      "cell_type": "code",
      "execution_count": 3,
      "metadata": {
        "id": "Wh5QGCEakstn",
        "outputId": "012ea5ee-6282-4d2a-888b-fd7ce9df3c49",
        "colab": {
          "base_uri": "https://localhost:8080/"
        }
      },
      "outputs": [
        {
          "output_type": "stream",
          "name": "stdout",
          "text": [
            "Kod koloru czerwonego: #FF0000\n",
            "Kod koloru zielonego: #00FF00\n",
            "Kod koloru niebieskiego: #0000FF\n"
          ]
        }
      ],
      "source": [
        "# Przyklad kodowania kolorów w postaci słownika\n",
        "color_codes = {\"red\": \"#FF0000\", \"green\": \"#00FF00\", \"blue\": \"#0000FF\"}\n",
        "print(f\"Kod koloru czerwonego: {color_codes['red']}\")\n",
        "print(f\"Kod koloru zielonego: {color_codes['green']}\")\n",
        "print(f\"Kod koloru niebieskiego: {color_codes['blue']}\")"
      ]
    },
    {
      "cell_type": "markdown",
      "metadata": {
        "id": "aSAtSj2Kkstn"
      },
      "source": [
        "**Przyklad 9**\n",
        "\n",
        "Sposób na zapisanie funkcji w pythonie jesy bardzo naturalny.\n",
        "Potrzebujemy:\n",
        "\n",
        "* nadać jej nazwę\n",
        "* zdefiniować argumenty\n",
        "* określić operacje, które ma wykonać\n",
        "* zwrócić wynik\n",
        "    \n",
        "    ```python\n",
        "    def nazwa_funckji(argumenty):\n",
        "        \"coś robimy z argumentami\"\n",
        "        return wynik\n",
        "    ```"
      ]
    },
    {
      "cell_type": "code",
      "execution_count": 4,
      "metadata": {
        "id": "8FAJjP-Hkstn",
        "outputId": "4e7e84eb-8c17-4432-a3be-68982cb25dbb",
        "colab": {
          "base_uri": "https://localhost:8080/"
        }
      },
      "outputs": [
        {
          "output_type": "stream",
          "name": "stdout",
          "text": [
            "Wartość dla argumentu 1: f(1) = 1\n",
            "Wartość dla argumentu 2: f(2) = 4\n",
            "Wartość dla argumentu 3: f(3) = 9\n"
          ]
        }
      ],
      "source": [
        "# Funkcja kwadratowa\n",
        "\n",
        "def f(x):\n",
        "    return x**2\n",
        "\n",
        "# równoważnie jako lambda\n",
        "\n",
        "f = lambda x: x**2\n",
        "\n",
        "# Odpytujemy funkcję o wartości dla argumentów 1, 2, 3 podobnie jak zapisujemy to w matematyce!!!\n",
        "print(f\"Wartość dla argumentu 1: f(1) = {f(1)}\")\n",
        "print(f\"Wartość dla argumentu 2: f(2) = {f(2)}\")\n",
        "print(f\"Wartość dla argumentu 3: f(3) = {f(3)}\")"
      ]
    },
    {
      "cell_type": "code",
      "execution_count": 5,
      "metadata": {
        "id": "qE0BcdYJksto",
        "outputId": "98179fb8-8f47-4c26-b08f-f1b1bfa405ce",
        "colab": {
          "base_uri": "https://localhost:8080/",
          "height": 117
        }
      },
      "outputs": [
        {
          "output_type": "display_data",
          "data": {
            "text/plain": [
              "<IPython.core.display.Math object>"
            ],
            "text/latex": "$\\displaystyle Pochodna\\ funkcji\\ x^{2}\\ jest\\ równa\\ 2 x$"
          },
          "metadata": {}
        },
        {
          "output_type": "display_data",
          "data": {
            "text/plain": [
              "<IPython.core.display.Math object>"
            ],
            "text/latex": "$\\displaystyle Pochodna\\ funkcji\\ \\sin{\\left(x^{3} \\right)}\\ jest\\ równa\\ 3 x^{2} \\cos{\\left(x^{3} \\right)}$"
          },
          "metadata": {}
        },
        {
          "output_type": "display_data",
          "data": {
            "text/plain": [
              "<IPython.core.display.Math object>"
            ],
            "text/latex": "$\\displaystyle Pochodna\\ funkcji\\ e^{\\sin{\\left(x \\right)}}\\ jest\\ równa\\ e^{\\sin{\\left(x \\right)}} \\cos{\\left(x \\right)}$"
          },
          "metadata": {}
        },
        {
          "output_type": "display_data",
          "data": {
            "text/plain": [
              "<IPython.core.display.Math object>"
            ],
            "text/latex": "$\\displaystyle Pochodna\\ funkcji\\ \\log{\\left(x^{2} + 1 \\right)}\\ jest\\ równa\\ \\frac{2 x}{x^{2} + 1}$"
          },
          "metadata": {}
        }
      ],
      "source": [
        "# Pochodna -  więcej na kolejnych zajęciach\n",
        "import sympy as sp  # potrzebujemy biblioteki sympy\n",
        "from IPython.display import display, Math  # do wyświetlania wyników jako LaTeX\n",
        "\n",
        "x = sp.symbols('x')  # definiujemy zmienną x\n",
        "\n",
        "def policz_pochodna(f):\n",
        "    return sp.diff(f, x)\n",
        "\n",
        "# definiujemy kilka funkcji do policzenia pochodnej\n",
        "lista_funkcji = [x**2, sp.sin(x**3), sp.exp(sp.sin(x)), sp.log(x**2 + 1)]\n",
        "\n",
        "# policzmy pochodne dla każdej z funkcji z listy\n",
        "for f in lista_funkcji:\n",
        "    # Wyświetlamy wynik jako LaTeX\n",
        "    display(Math(r'Pochodna\\ funkcji\\ {}\\ jest\\ równa\\ {}'.format(sp.latex(f), sp.latex(policz_pochodna(f)))))\n"
      ]
    },
    {
      "cell_type": "code",
      "execution_count": 6,
      "metadata": {
        "id": "r4oDlT7Dksto"
      },
      "outputs": [],
      "source": [
        "# Inne przykłady zapisu funkcji w sympy\n",
        "f=(x+1)**2\n",
        "g=sp.sin(x)"
      ]
    },
    {
      "cell_type": "code",
      "execution_count": 7,
      "metadata": {
        "id": "Jp5XYlcbksto",
        "outputId": "420293a8-fb4f-4263-fa17-62eb0764b876",
        "colab": {
          "base_uri": "https://localhost:8080/",
          "height": 39
        }
      },
      "outputs": [
        {
          "output_type": "execute_result",
          "data": {
            "text/plain": [
              "(x + 1)**2"
            ],
            "text/latex": "$\\displaystyle \\left(x + 1\\right)^{2}$"
          },
          "metadata": {},
          "execution_count": 7
        }
      ],
      "source": [
        "# Możemy wyświetlić funkcje\n",
        "f"
      ]
    },
    {
      "cell_type": "code",
      "execution_count": 8,
      "metadata": {
        "id": "54JgCzUQksto",
        "outputId": "2ee57260-a649-434e-b681-d940af64d145",
        "colab": {
          "base_uri": "https://localhost:8080/",
          "height": 39
        }
      },
      "outputs": [
        {
          "output_type": "execute_result",
          "data": {
            "text/plain": [
              "(x + 1)**2 + sin(x)"
            ],
            "text/latex": "$\\displaystyle \\left(x + 1\\right)^{2} + \\sin{\\left(x \\right)}$"
          },
          "metadata": {},
          "execution_count": 8
        }
      ],
      "source": [
        "# Możemy dodać funkcje\n",
        "f+g"
      ]
    },
    {
      "cell_type": "code",
      "execution_count": 9,
      "metadata": {
        "id": "G4Ju6hqAksto",
        "outputId": "66e25da5-ee7e-40d4-89de-4636ce185088",
        "colab": {
          "base_uri": "https://localhost:8080/",
          "height": 38
        }
      },
      "outputs": [
        {
          "output_type": "execute_result",
          "data": {
            "text/plain": [
              "2*x + 2"
            ],
            "text/latex": "$\\displaystyle 2 x + 2$"
          },
          "metadata": {},
          "execution_count": 9
        }
      ],
      "source": [
        "# Możemy różniczkować funkcje\n",
        "f.diff(x)"
      ]
    },
    {
      "cell_type": "code",
      "execution_count": 10,
      "metadata": {
        "id": "iGH9K_7kksto",
        "outputId": "6a69a981-7e83-4c26-cb00-49d4f7d08510",
        "colab": {
          "base_uri": "https://localhost:8080/",
          "height": 54
        }
      },
      "outputs": [
        {
          "output_type": "execute_result",
          "data": {
            "text/plain": [
              "x**3/3 + x**2 + x"
            ],
            "text/latex": "$\\displaystyle \\frac{x^{3}}{3} + x^{2} + x$"
          },
          "metadata": {},
          "execution_count": 10
        }
      ],
      "source": [
        "# Możemy całkować funkcje\n",
        "f.integrate(x)"
      ]
    },
    {
      "cell_type": "code",
      "execution_count": 11,
      "metadata": {
        "id": "dbSMZ9n1kstp",
        "outputId": "0f7a3d7b-9211-4220-b3e7-6d06cf3625d1",
        "colab": {
          "base_uri": "https://localhost:8080/",
          "height": 504
        }
      },
      "outputs": [
        {
          "output_type": "display_data",
          "data": {
            "text/plain": [
              "<Figure size 640x480 with 1 Axes>"
            ],
            "image/png": "[encoded data removed]"
          },
          "metadata": {}
        },
        {
          "output_type": "execute_result",
          "data": {
            "text/plain": [
              "<sympy.plotting.backends.matplotlibbackend.matplotlib.MatplotlibBackend at 0x7d0d40d5e650>"
            ]
          },
          "metadata": {},
          "execution_count": 11
        }
      ],
      "source": [
        "# możemy rysoać funkcje\n",
        "sp.plot(g, (x, -5, 5))"
      ]
    },
    {
      "cell_type": "code",
      "execution_count": 12,
      "metadata": {
        "id": "zpzEfeiQkstp",
        "outputId": "2896d4e6-e9f8-41c8-f590-ef1685e34b03",
        "colab": {
          "base_uri": "https://localhost:8080/",
          "height": 38
        }
      },
      "outputs": [
        {
          "output_type": "execute_result",
          "data": {
            "text/plain": [
              "f(x) + g(x)"
            ],
            "text/latex": "$\\displaystyle f{\\left(x \\right)} + g{\\left(x \\right)}$"
          },
          "metadata": {},
          "execution_count": 12
        }
      ],
      "source": [
        "# Możemy też definiować ogólne funkcje\n",
        "f, g = sp.symbols('f g', cls=sp.Function)\n",
        "f(x)+g(x)"
      ]
    },
    {
      "cell_type": "code",
      "execution_count": 13,
      "metadata": {
        "id": "GeDI3Alrkstp",
        "outputId": "f8543ad2-b708-4480-88b0-985cb67bd54d",
        "colab": {
          "base_uri": "https://localhost:8080/",
          "height": 55
        }
      },
      "outputs": [
        {
          "output_type": "execute_result",
          "data": {
            "text/plain": [
              "Integral(f(x), x) + Integral(g(x), x)"
            ],
            "text/latex": "$\\displaystyle \\int f{\\left(x \\right)}\\, dx + \\int g{\\left(x \\right)}\\, dx$"
          },
          "metadata": {},
          "execution_count": 13
        }
      ],
      "source": [
        "# możemy zobaczyć jedną z reguł całkowania\n",
        "sp.expand(sp.integrate(f(x)+g(x), x))"
      ]
    }
  ],
  "metadata": {
    "kernelspec": {
      "display_name": "Python 3",
      "language": "python",
      "name": "python3"
    },
    "language_info": {
      "codemirror_mode": {
        "name": "ipython",
        "version": 3
      },
      "file_extension": ".py",
      "mimetype": "text/x-python",
      "name": "python",
      "nbconvert_exporter": "python",
      "pygments_lexer": "ipython3",
      "version": "3.11.9"
    },
    "colab": {
      "provenance": []
    }
  },
  "nbformat": 4,
  "nbformat_minor": 0
}